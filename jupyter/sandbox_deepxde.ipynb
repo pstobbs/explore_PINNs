{
 "cells": [
  {
   "cell_type": "markdown",
   "id": "1a65a968-8720-4d68-9ee6-c8a85084dfbb",
   "metadata": {},
   "source": [
    "### Explore Physics informed learning with deepxde\n",
    "\n",
    "see https://prophesea.medium.com/on-physics-informed-learning-da14d9aa40ce"
   ]
  },
  {
   "cell_type": "code",
   "execution_count": 1,
   "id": "0e69c02e-426b-405a-9498-8e52dc91c70d",
   "metadata": {},
   "outputs": [
    {
     "name": "stderr",
     "output_type": "stream",
     "text": [
      "Using backend: pytorch\n",
      "\n"
     ]
    }
   ],
   "source": [
    "## setup\n",
    "import os\n",
    "import sys\n",
    "import importlib\n",
    "module_path = os.path.abspath(os.path.join('..'))\n",
    "if module_path not in sys.path:\n",
    "    sys.path.append(module_path)\n",
    "\n",
    "import numpy as np\n",
    "import pandas as pd\n",
    "#import pickle\n",
    "from datetime import timedelta\n",
    "\n",
    "import plotly.express as px\n",
    "\n",
    "import deepxde as dde\n",
    "\n",
    "\n",
    "## variables\n",
    "dataDir = '../data/'\n",
    "\n"
   ]
  },
  {
   "cell_type": "code",
   "execution_count": null,
   "id": "8e092feb-704d-4629-b2a2-c9a00ef960a0",
   "metadata": {},
   "outputs": [],
   "source": [
    "#reload_flag=1\n",
    "#if reload_flag:\n",
    "#    importlib.reload(eda)"
   ]
  },
  {
   "cell_type": "code",
   "execution_count": 2,
   "id": "831c013d-1233-413c-a258-5fad826435d8",
   "metadata": {},
   "outputs": [],
   "source": [
    "# damped harmonic oscillator problem\n",
    "\n",
    "# define ode - this is what we are trying to understand\n",
    "def ode_oscillator(t, y):\n",
    "    dy_dt = dde.grad.jacobian(y, t)\n",
    "    d2y_dt2 = dde.grad.hessian(y, t)\n",
    "    return d2y_dt2 + 4 * dy_dt + 400 * y\n"
   ]
  },
  {
   "cell_type": "code",
   "execution_count": 6,
   "id": "38fb4772-71c4-404a-8f7f-d0bef29bef21",
   "metadata": {},
   "outputs": [],
   "source": [
    "# define boundary conditions for the oscillator\n",
    "\n",
    "# define the geometry \n",
    "geom = dde.geometry.TimeDomain(0, 1.25)\n",
    "\n",
    "## y(t=0) = 1\n",
    "ic1 = dde.icbc.IC(\n",
    "    geom, lambda y: 1, lambda _, on_initial: on_initial\n",
    ")\n",
    "\n",
    "## dy/dt (0) = 0\n",
    "def boundary_l(t, on_initial):\n",
    "    return on_initial and np.isclose(t[0], 0)\n",
    "\n",
    "def bc_func2(inputs, outputs, X):\n",
    "    return dde.grad.jacobian(outputs, inputs, i=0, j=None)\n",
    "\n",
    "ic2 = dde.icbc.OperatorBC(geom, bc_func2, boundary_l)\n"
   ]
  },
  {
   "cell_type": "code",
   "execution_count": 7,
   "id": "561e1cd1-3402-4b05-bf2c-fb2918afaba5",
   "metadata": {},
   "outputs": [
    {
     "ename": "NameError",
     "evalue": "name 'time2evaluate' is not defined",
     "output_type": "error",
     "traceback": [
      "\u001b[0;31m---------------------------------------------------------------------------\u001b[0m",
      "\u001b[0;31mNameError\u001b[0m                                 Traceback (most recent call last)",
      "Cell \u001b[0;32mIn [7], line 3\u001b[0m\n\u001b[1;32m      1\u001b[0m \u001b[38;5;66;03m# observations (computed considering the reference solution)\u001b[39;00m\n\u001b[1;32m      2\u001b[0m observed_bc \u001b[38;5;241m=\u001b[39m dde\u001b[38;5;241m.\u001b[39micbc\u001b[38;5;241m.\u001b[39mboundary_conditions\u001b[38;5;241m.\u001b[39mPointSetBC(\n\u001b[0;32m----> 3\u001b[0m     \u001b[43mtime2evaluate\u001b[49m, observed_values)\n",
      "\u001b[0;31mNameError\u001b[0m: name 'time2evaluate' is not defined"
     ]
    }
   ],
   "source": [
    "# observations (computed considering the reference solution)\n",
    "observed_bc = dde.icbc.boundary_conditions.PointSetBC(\n",
    "    time2evaluate, observed_values)"
   ]
  },
  {
   "cell_type": "code",
   "execution_count": null,
   "id": "7aa589b6-cfc8-419a-907a-9e250924af0f",
   "metadata": {},
   "outputs": [],
   "source": []
  }
 ],
 "metadata": {
  "kernelspec": {
   "display_name": "Python 3 (ipykernel)",
   "language": "python",
   "name": "python3"
  },
  "language_info": {
   "codemirror_mode": {
    "name": "ipython",
    "version": 3
   },
   "file_extension": ".py",
   "mimetype": "text/x-python",
   "name": "python",
   "nbconvert_exporter": "python",
   "pygments_lexer": "ipython3",
   "version": "3.9.13"
  }
 },
 "nbformat": 4,
 "nbformat_minor": 5
}
